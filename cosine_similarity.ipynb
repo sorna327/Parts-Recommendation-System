{
  "nbformat": 4,
  "nbformat_minor": 0,
  "metadata": {
    "colab": {
      "provenance": []
    },
    "kernelspec": {
      "name": "python3",
      "display_name": "Python 3"
    },
    "language_info": {
      "name": "python"
    }
  },
  "cells": [
    {
      "cell_type": "code",
      "execution_count": null,
      "metadata": {
        "id": "GpZ60KiugqRc"
      },
      "outputs": [],
      "source": [
        "import pandas as pd"
      ]
    },
    {
      "cell_type": "code",
      "source": [
        "df = pd.read_csv('/content/Parts_Recommendation_CaseStudy.csv')"
      ],
      "metadata": {
        "id": "rkiW5skngzuJ"
      },
      "execution_count": null,
      "outputs": []
    },
    {
      "cell_type": "code",
      "source": [
        "df.isnull().sum()"
      ],
      "metadata": {
        "colab": {
          "base_uri": "https://localhost:8080/"
        },
        "id": "85B76WDHg8Mr",
        "outputId": "ddea65cb-723d-4ffd-b20b-563d7d4ed342"
      },
      "execution_count": null,
      "outputs": [
        {
          "output_type": "execute_result",
          "data": {
            "text/plain": [
              "INVOICE_ID         0\n",
              "INVOICE_DATE       0\n",
              "PART_NUMBER        0\n",
              "SERVICE            0\n",
              "PART_NAME       1024\n",
              "SALES_MODEL        0\n",
              "dtype: int64"
            ]
          },
          "metadata": {},
          "execution_count": 38
        }
      ]
    },
    {
      "cell_type": "code",
      "source": [
        "df.head()"
      ],
      "metadata": {
        "colab": {
          "base_uri": "https://localhost:8080/",
          "height": 250
        },
        "id": "A7hCDNHwg8PR",
        "outputId": "a9fc8fb1-b348-4354-8266-5835320cbb0e"
      },
      "execution_count": null,
      "outputs": [
        {
          "output_type": "execute_result",
          "data": {
            "text/plain": [
              "                   INVOICE_ID INVOICE_DATE PART_NUMBER  \\\n",
              "0  U370/9670114009-3350006692   17-06-2020      5O7126   \n",
              "1        M060/M060-3073812939   30-04-2020      3N6968   \n",
              "2  U370/9670558168-3300504198   20-07-2021      1U0931   \n",
              "3            W700/CTS33550363   14-08-2020      0L0181   \n",
              "4                C090/7F87195   30-04-2022     30K3389   \n",
              "\n",
              "                         SERVICE                    PART_NAME SALES_MODEL  \n",
              "0      Drivetrain-Brakes-Rebuild               Screen Filters        289Y  \n",
              "1      Drivetrain-Brakes-Rebuild                      Gaskets        289Y  \n",
              "2      Drivetrain-Brakes-Rebuild  Seals, Gaskets, and O-Rings        289Y  \n",
              "3        Drivetrain-Axle-Rebuild             Bolts and Screws        488V  \n",
              "4  Engine-Injector Group-Rebuild                          NaN        W70M  "
            ],
            "text/html": [
              "\n",
              "  <div id=\"df-60d55b71-8c94-42e6-99f3-992d1e97670f\">\n",
              "    <div class=\"colab-df-container\">\n",
              "      <div>\n",
              "<style scoped>\n",
              "    .dataframe tbody tr th:only-of-type {\n",
              "        vertical-align: middle;\n",
              "    }\n",
              "\n",
              "    .dataframe tbody tr th {\n",
              "        vertical-align: top;\n",
              "    }\n",
              "\n",
              "    .dataframe thead th {\n",
              "        text-align: right;\n",
              "    }\n",
              "</style>\n",
              "<table border=\"1\" class=\"dataframe\">\n",
              "  <thead>\n",
              "    <tr style=\"text-align: right;\">\n",
              "      <th></th>\n",
              "      <th>INVOICE_ID</th>\n",
              "      <th>INVOICE_DATE</th>\n",
              "      <th>PART_NUMBER</th>\n",
              "      <th>SERVICE</th>\n",
              "      <th>PART_NAME</th>\n",
              "      <th>SALES_MODEL</th>\n",
              "    </tr>\n",
              "  </thead>\n",
              "  <tbody>\n",
              "    <tr>\n",
              "      <th>0</th>\n",
              "      <td>U370/9670114009-3350006692</td>\n",
              "      <td>17-06-2020</td>\n",
              "      <td>5O7126</td>\n",
              "      <td>Drivetrain-Brakes-Rebuild</td>\n",
              "      <td>Screen Filters</td>\n",
              "      <td>289Y</td>\n",
              "    </tr>\n",
              "    <tr>\n",
              "      <th>1</th>\n",
              "      <td>M060/M060-3073812939</td>\n",
              "      <td>30-04-2020</td>\n",
              "      <td>3N6968</td>\n",
              "      <td>Drivetrain-Brakes-Rebuild</td>\n",
              "      <td>Gaskets</td>\n",
              "      <td>289Y</td>\n",
              "    </tr>\n",
              "    <tr>\n",
              "      <th>2</th>\n",
              "      <td>U370/9670558168-3300504198</td>\n",
              "      <td>20-07-2021</td>\n",
              "      <td>1U0931</td>\n",
              "      <td>Drivetrain-Brakes-Rebuild</td>\n",
              "      <td>Seals, Gaskets, and O-Rings</td>\n",
              "      <td>289Y</td>\n",
              "    </tr>\n",
              "    <tr>\n",
              "      <th>3</th>\n",
              "      <td>W700/CTS33550363</td>\n",
              "      <td>14-08-2020</td>\n",
              "      <td>0L0181</td>\n",
              "      <td>Drivetrain-Axle-Rebuild</td>\n",
              "      <td>Bolts and Screws</td>\n",
              "      <td>488V</td>\n",
              "    </tr>\n",
              "    <tr>\n",
              "      <th>4</th>\n",
              "      <td>C090/7F87195</td>\n",
              "      <td>30-04-2022</td>\n",
              "      <td>30K3389</td>\n",
              "      <td>Engine-Injector Group-Rebuild</td>\n",
              "      <td>NaN</td>\n",
              "      <td>W70M</td>\n",
              "    </tr>\n",
              "  </tbody>\n",
              "</table>\n",
              "</div>\n",
              "      <button class=\"colab-df-convert\" onclick=\"convertToInteractive('df-60d55b71-8c94-42e6-99f3-992d1e97670f')\"\n",
              "              title=\"Convert this dataframe to an interactive table.\"\n",
              "              style=\"display:none;\">\n",
              "        \n",
              "  <svg xmlns=\"http://www.w3.org/2000/svg\" height=\"24px\"viewBox=\"0 0 24 24\"\n",
              "       width=\"24px\">\n",
              "    <path d=\"M0 0h24v24H0V0z\" fill=\"none\"/>\n",
              "    <path d=\"M18.56 5.44l.94 2.06.94-2.06 2.06-.94-2.06-.94-.94-2.06-.94 2.06-2.06.94zm-11 1L8.5 8.5l.94-2.06 2.06-.94-2.06-.94L8.5 2.5l-.94 2.06-2.06.94zm10 10l.94 2.06.94-2.06 2.06-.94-2.06-.94-.94-2.06-.94 2.06-2.06.94z\"/><path d=\"M17.41 7.96l-1.37-1.37c-.4-.4-.92-.59-1.43-.59-.52 0-1.04.2-1.43.59L10.3 9.45l-7.72 7.72c-.78.78-.78 2.05 0 2.83L4 21.41c.39.39.9.59 1.41.59.51 0 1.02-.2 1.41-.59l7.78-7.78 2.81-2.81c.8-.78.8-2.07 0-2.86zM5.41 20L4 18.59l7.72-7.72 1.47 1.35L5.41 20z\"/>\n",
              "  </svg>\n",
              "      </button>\n",
              "      \n",
              "  <style>\n",
              "    .colab-df-container {\n",
              "      display:flex;\n",
              "      flex-wrap:wrap;\n",
              "      gap: 12px;\n",
              "    }\n",
              "\n",
              "    .colab-df-convert {\n",
              "      background-color: #E8F0FE;\n",
              "      border: none;\n",
              "      border-radius: 50%;\n",
              "      cursor: pointer;\n",
              "      display: none;\n",
              "      fill: #1967D2;\n",
              "      height: 32px;\n",
              "      padding: 0 0 0 0;\n",
              "      width: 32px;\n",
              "    }\n",
              "\n",
              "    .colab-df-convert:hover {\n",
              "      background-color: #E2EBFA;\n",
              "      box-shadow: 0px 1px 2px rgba(60, 64, 67, 0.3), 0px 1px 3px 1px rgba(60, 64, 67, 0.15);\n",
              "      fill: #174EA6;\n",
              "    }\n",
              "\n",
              "    [theme=dark] .colab-df-convert {\n",
              "      background-color: #3B4455;\n",
              "      fill: #D2E3FC;\n",
              "    }\n",
              "\n",
              "    [theme=dark] .colab-df-convert:hover {\n",
              "      background-color: #434B5C;\n",
              "      box-shadow: 0px 1px 3px 1px rgba(0, 0, 0, 0.15);\n",
              "      filter: drop-shadow(0px 1px 2px rgba(0, 0, 0, 0.3));\n",
              "      fill: #FFFFFF;\n",
              "    }\n",
              "  </style>\n",
              "\n",
              "      <script>\n",
              "        const buttonEl =\n",
              "          document.querySelector('#df-60d55b71-8c94-42e6-99f3-992d1e97670f button.colab-df-convert');\n",
              "        buttonEl.style.display =\n",
              "          google.colab.kernel.accessAllowed ? 'block' : 'none';\n",
              "\n",
              "        async function convertToInteractive(key) {\n",
              "          const element = document.querySelector('#df-60d55b71-8c94-42e6-99f3-992d1e97670f');\n",
              "          const dataTable =\n",
              "            await google.colab.kernel.invokeFunction('convertToInteractive',\n",
              "                                                     [key], {});\n",
              "          if (!dataTable) return;\n",
              "\n",
              "          const docLinkHtml = 'Like what you see? Visit the ' +\n",
              "            '<a target=\"_blank\" href=https://colab.research.google.com/notebooks/data_table.ipynb>data table notebook</a>'\n",
              "            + ' to learn more about interactive tables.';\n",
              "          element.innerHTML = '';\n",
              "          dataTable['output_type'] = 'display_data';\n",
              "          await google.colab.output.renderOutput(dataTable, element);\n",
              "          const docLink = document.createElement('div');\n",
              "          docLink.innerHTML = docLinkHtml;\n",
              "          element.appendChild(docLink);\n",
              "        }\n",
              "      </script>\n",
              "    </div>\n",
              "  </div>\n",
              "  "
            ]
          },
          "metadata": {},
          "execution_count": 39
        }
      ]
    },
    {
      "cell_type": "code",
      "source": [
        "data = df.drop(columns =['INVOICE_ID','INVOICE_DATE','PART_NUMBER','SALES_MODEL'])"
      ],
      "metadata": {
        "id": "xcSDlyVsg8St"
      },
      "execution_count": null,
      "outputs": []
    },
    {
      "cell_type": "code",
      "source": [
        "data.head()"
      ],
      "metadata": {
        "colab": {
          "base_uri": "https://localhost:8080/",
          "height": 206
        },
        "id": "63qMjQYjh7Ar",
        "outputId": "e0325ef9-8301-4143-9e06-335d32219328"
      },
      "execution_count": null,
      "outputs": [
        {
          "output_type": "execute_result",
          "data": {
            "text/plain": [
              "                         SERVICE                    PART_NAME\n",
              "0      Drivetrain-Brakes-Rebuild               Screen Filters\n",
              "1      Drivetrain-Brakes-Rebuild                      Gaskets\n",
              "2      Drivetrain-Brakes-Rebuild  Seals, Gaskets, and O-Rings\n",
              "3        Drivetrain-Axle-Rebuild             Bolts and Screws\n",
              "4  Engine-Injector Group-Rebuild                          NaN"
            ],
            "text/html": [
              "\n",
              "  <div id=\"df-e70c5663-aca4-4573-a4bb-38b716f07f68\">\n",
              "    <div class=\"colab-df-container\">\n",
              "      <div>\n",
              "<style scoped>\n",
              "    .dataframe tbody tr th:only-of-type {\n",
              "        vertical-align: middle;\n",
              "    }\n",
              "\n",
              "    .dataframe tbody tr th {\n",
              "        vertical-align: top;\n",
              "    }\n",
              "\n",
              "    .dataframe thead th {\n",
              "        text-align: right;\n",
              "    }\n",
              "</style>\n",
              "<table border=\"1\" class=\"dataframe\">\n",
              "  <thead>\n",
              "    <tr style=\"text-align: right;\">\n",
              "      <th></th>\n",
              "      <th>SERVICE</th>\n",
              "      <th>PART_NAME</th>\n",
              "    </tr>\n",
              "  </thead>\n",
              "  <tbody>\n",
              "    <tr>\n",
              "      <th>0</th>\n",
              "      <td>Drivetrain-Brakes-Rebuild</td>\n",
              "      <td>Screen Filters</td>\n",
              "    </tr>\n",
              "    <tr>\n",
              "      <th>1</th>\n",
              "      <td>Drivetrain-Brakes-Rebuild</td>\n",
              "      <td>Gaskets</td>\n",
              "    </tr>\n",
              "    <tr>\n",
              "      <th>2</th>\n",
              "      <td>Drivetrain-Brakes-Rebuild</td>\n",
              "      <td>Seals, Gaskets, and O-Rings</td>\n",
              "    </tr>\n",
              "    <tr>\n",
              "      <th>3</th>\n",
              "      <td>Drivetrain-Axle-Rebuild</td>\n",
              "      <td>Bolts and Screws</td>\n",
              "    </tr>\n",
              "    <tr>\n",
              "      <th>4</th>\n",
              "      <td>Engine-Injector Group-Rebuild</td>\n",
              "      <td>NaN</td>\n",
              "    </tr>\n",
              "  </tbody>\n",
              "</table>\n",
              "</div>\n",
              "      <button class=\"colab-df-convert\" onclick=\"convertToInteractive('df-e70c5663-aca4-4573-a4bb-38b716f07f68')\"\n",
              "              title=\"Convert this dataframe to an interactive table.\"\n",
              "              style=\"display:none;\">\n",
              "        \n",
              "  <svg xmlns=\"http://www.w3.org/2000/svg\" height=\"24px\"viewBox=\"0 0 24 24\"\n",
              "       width=\"24px\">\n",
              "    <path d=\"M0 0h24v24H0V0z\" fill=\"none\"/>\n",
              "    <path d=\"M18.56 5.44l.94 2.06.94-2.06 2.06-.94-2.06-.94-.94-2.06-.94 2.06-2.06.94zm-11 1L8.5 8.5l.94-2.06 2.06-.94-2.06-.94L8.5 2.5l-.94 2.06-2.06.94zm10 10l.94 2.06.94-2.06 2.06-.94-2.06-.94-.94-2.06-.94 2.06-2.06.94z\"/><path d=\"M17.41 7.96l-1.37-1.37c-.4-.4-.92-.59-1.43-.59-.52 0-1.04.2-1.43.59L10.3 9.45l-7.72 7.72c-.78.78-.78 2.05 0 2.83L4 21.41c.39.39.9.59 1.41.59.51 0 1.02-.2 1.41-.59l7.78-7.78 2.81-2.81c.8-.78.8-2.07 0-2.86zM5.41 20L4 18.59l7.72-7.72 1.47 1.35L5.41 20z\"/>\n",
              "  </svg>\n",
              "      </button>\n",
              "      \n",
              "  <style>\n",
              "    .colab-df-container {\n",
              "      display:flex;\n",
              "      flex-wrap:wrap;\n",
              "      gap: 12px;\n",
              "    }\n",
              "\n",
              "    .colab-df-convert {\n",
              "      background-color: #E8F0FE;\n",
              "      border: none;\n",
              "      border-radius: 50%;\n",
              "      cursor: pointer;\n",
              "      display: none;\n",
              "      fill: #1967D2;\n",
              "      height: 32px;\n",
              "      padding: 0 0 0 0;\n",
              "      width: 32px;\n",
              "    }\n",
              "\n",
              "    .colab-df-convert:hover {\n",
              "      background-color: #E2EBFA;\n",
              "      box-shadow: 0px 1px 2px rgba(60, 64, 67, 0.3), 0px 1px 3px 1px rgba(60, 64, 67, 0.15);\n",
              "      fill: #174EA6;\n",
              "    }\n",
              "\n",
              "    [theme=dark] .colab-df-convert {\n",
              "      background-color: #3B4455;\n",
              "      fill: #D2E3FC;\n",
              "    }\n",
              "\n",
              "    [theme=dark] .colab-df-convert:hover {\n",
              "      background-color: #434B5C;\n",
              "      box-shadow: 0px 1px 3px 1px rgba(0, 0, 0, 0.15);\n",
              "      filter: drop-shadow(0px 1px 2px rgba(0, 0, 0, 0.3));\n",
              "      fill: #FFFFFF;\n",
              "    }\n",
              "  </style>\n",
              "\n",
              "      <script>\n",
              "        const buttonEl =\n",
              "          document.querySelector('#df-e70c5663-aca4-4573-a4bb-38b716f07f68 button.colab-df-convert');\n",
              "        buttonEl.style.display =\n",
              "          google.colab.kernel.accessAllowed ? 'block' : 'none';\n",
              "\n",
              "        async function convertToInteractive(key) {\n",
              "          const element = document.querySelector('#df-e70c5663-aca4-4573-a4bb-38b716f07f68');\n",
              "          const dataTable =\n",
              "            await google.colab.kernel.invokeFunction('convertToInteractive',\n",
              "                                                     [key], {});\n",
              "          if (!dataTable) return;\n",
              "\n",
              "          const docLinkHtml = 'Like what you see? Visit the ' +\n",
              "            '<a target=\"_blank\" href=https://colab.research.google.com/notebooks/data_table.ipynb>data table notebook</a>'\n",
              "            + ' to learn more about interactive tables.';\n",
              "          element.innerHTML = '';\n",
              "          dataTable['output_type'] = 'display_data';\n",
              "          await google.colab.output.renderOutput(dataTable, element);\n",
              "          const docLink = document.createElement('div');\n",
              "          docLink.innerHTML = docLinkHtml;\n",
              "          element.appendChild(docLink);\n",
              "        }\n",
              "      </script>\n",
              "    </div>\n",
              "  </div>\n",
              "  "
            ]
          },
          "metadata": {},
          "execution_count": 41
        }
      ]
    },
    {
      "cell_type": "code",
      "source": [
        "newdf = data.dropna()"
      ],
      "metadata": {
        "id": "3iqdoHyoh9fA"
      },
      "execution_count": null,
      "outputs": []
    },
    {
      "cell_type": "code",
      "source": [
        "newdf.isnull().sum()"
      ],
      "metadata": {
        "colab": {
          "base_uri": "https://localhost:8080/"
        },
        "id": "lh1caR2KiDF8",
        "outputId": "196fc22b-2bc6-44e8-9ac2-dc45859c5634"
      },
      "execution_count": null,
      "outputs": [
        {
          "output_type": "execute_result",
          "data": {
            "text/plain": [
              "SERVICE      0\n",
              "PART_NAME    0\n",
              "dtype: int64"
            ]
          },
          "metadata": {},
          "execution_count": 43
        }
      ]
    },
    {
      "cell_type": "code",
      "source": [
        "#finding unique numbers\n",
        "serv = len(pd.unique(newdf['SERVICE']))\n",
        "print(serv)"
      ],
      "metadata": {
        "colab": {
          "base_uri": "https://localhost:8080/"
        },
        "id": "T3vMN2IEiEpu",
        "outputId": "a8d3ec35-3a57-4c78-83ae-9ced26c9ffd0"
      },
      "execution_count": null,
      "outputs": [
        {
          "output_type": "stream",
          "name": "stdout",
          "text": [
            "8\n"
          ]
        }
      ]
    },
    {
      "cell_type": "code",
      "source": [
        "parts = len(pd.unique(newdf['PART_NAME']))\n",
        "print(parts)"
      ],
      "metadata": {
        "colab": {
          "base_uri": "https://localhost:8080/"
        },
        "id": "JDiQK0xFiGgg",
        "outputId": "e5259318-122c-4605-f0a9-ab68023a9c4b"
      },
      "execution_count": null,
      "outputs": [
        {
          "output_type": "stream",
          "name": "stdout",
          "text": [
            "190\n"
          ]
        }
      ]
    },
    {
      "cell_type": "code",
      "source": [
        "newdf['PART_NAME'] = newdf['PART_NAME'].str.replace(',', '')"
      ],
      "metadata": {
        "colab": {
          "base_uri": "https://localhost:8080/"
        },
        "id": "oDHZ_q4eiOPW",
        "outputId": "4b1737db-0f3c-4857-8d27-25b891105781"
      },
      "execution_count": null,
      "outputs": [
        {
          "output_type": "stream",
          "name": "stderr",
          "text": [
            "<ipython-input-46-4d7ec22ade93>:1: SettingWithCopyWarning: \n",
            "A value is trying to be set on a copy of a slice from a DataFrame.\n",
            "Try using .loc[row_indexer,col_indexer] = value instead\n",
            "\n",
            "See the caveats in the documentation: https://pandas.pydata.org/pandas-docs/stable/user_guide/indexing.html#returning-a-view-versus-a-copy\n",
            "  newdf['PART_NAME'] = newdf['PART_NAME'].str.replace(',', '')\n"
          ]
        }
      ]
    },
    {
      "cell_type": "code",
      "source": [
        "newdf['count'] = newdf.groupby(['SERVICE', 'PART_NAME'])['PART_NAME'].transform('count')"
      ],
      "metadata": {
        "colab": {
          "base_uri": "https://localhost:8080/"
        },
        "id": "gCH_ORl3iVkH",
        "outputId": "10e91cf9-e94c-45ab-bae0-9c03315b647c"
      },
      "execution_count": null,
      "outputs": [
        {
          "output_type": "stream",
          "name": "stderr",
          "text": [
            "<ipython-input-47-19480ce9e81a>:1: SettingWithCopyWarning: \n",
            "A value is trying to be set on a copy of a slice from a DataFrame.\n",
            "Try using .loc[row_indexer,col_indexer] = value instead\n",
            "\n",
            "See the caveats in the documentation: https://pandas.pydata.org/pandas-docs/stable/user_guide/indexing.html#returning-a-view-versus-a-copy\n",
            "  newdf['count'] = newdf.groupby(['SERVICE', 'PART_NAME'])['PART_NAME'].transform('count')\n"
          ]
        }
      ]
    },
    {
      "cell_type": "code",
      "source": [
        "print(len(newdf['count']))"
      ],
      "metadata": {
        "colab": {
          "base_uri": "https://localhost:8080/"
        },
        "id": "tv0YuZnqjMuh",
        "outputId": "83903973-cda0-4a6b-ad3a-7ed800cc6090"
      },
      "execution_count": null,
      "outputs": [
        {
          "output_type": "stream",
          "name": "stdout",
          "text": [
            "93603\n"
          ]
        }
      ]
    },
    {
      "cell_type": "code",
      "source": [
        "newdf = newdf.drop_duplicates(subset=['SERVICE', 'PART_NAME'])"
      ],
      "metadata": {
        "id": "Gl7WwkYtjTke"
      },
      "execution_count": null,
      "outputs": []
    },
    {
      "cell_type": "code",
      "source": [
        "print(len(newdf['count']))"
      ],
      "metadata": {
        "colab": {
          "base_uri": "https://localhost:8080/"
        },
        "id": "BAB7-WaqjY3s",
        "outputId": "7d452917-8aec-4bdf-822e-7216cfb4c864"
      },
      "execution_count": null,
      "outputs": [
        {
          "output_type": "stream",
          "name": "stdout",
          "text": [
            "411\n"
          ]
        }
      ]
    },
    {
      "cell_type": "code",
      "source": [
        "newdf.to_csv('Currentdata5.csv', index = False)"
      ],
      "metadata": {
        "id": "p1jtP8E-jatA"
      },
      "execution_count": null,
      "outputs": []
    },
    {
      "cell_type": "code",
      "source": [
        "currserv=newdf[\"SERVICE\"].unique()"
      ],
      "metadata": {
        "id": "xma59JoBjivR"
      },
      "execution_count": null,
      "outputs": []
    },
    {
      "cell_type": "code",
      "source": [
        "print(currserv)"
      ],
      "metadata": {
        "colab": {
          "base_uri": "https://localhost:8080/"
        },
        "id": "StUJB-8Z2Su6",
        "outputId": "9284178f-61d1-43ef-b32b-35979bf87af7"
      },
      "execution_count": null,
      "outputs": [
        {
          "output_type": "stream",
          "name": "stdout",
          "text": [
            "['Drivetrain-Brakes-Rebuild' 'Drivetrain-Axle-Rebuild'\n",
            " 'Engine-Injector Group-Rebuild' 'Drivetrain-Brakes-Repair'\n",
            " 'Engine-Water Pump Group-Rebuild' 'Engine-Turbo Group-Rebuild'\n",
            " 'Drivetrain-Differential-Repair'\n",
            " 'Engine-Engine cooling system-Replacement']\n"
          ]
        }
      ]
    },
    {
      "cell_type": "code",
      "source": [
        "print(list(currserv))"
      ],
      "metadata": {
        "colab": {
          "base_uri": "https://localhost:8080/"
        },
        "id": "3zFTftN3C0p7",
        "outputId": "dd86f3b5-6ac1-4d5b-8fbf-84077141fb20"
      },
      "execution_count": null,
      "outputs": [
        {
          "output_type": "stream",
          "name": "stdout",
          "text": [
            "['Drivetrain-Brakes-Rebuild', 'Drivetrain-Axle-Rebuild', 'Engine-Injector Group-Rebuild', 'Drivetrain-Brakes-Repair', 'Engine-Water Pump Group-Rebuild', 'Engine-Turbo Group-Rebuild', 'Drivetrain-Differential-Repair', 'Engine-Engine cooling system-Replacement']\n"
          ]
        }
      ]
    },
    {
      "cell_type": "code",
      "source": [
        "currparts=newdf[\"PART_NAME\"].unique()\n",
        "print(currparts)"
      ],
      "metadata": {
        "colab": {
          "base_uri": "https://localhost:8080/"
        },
        "id": "LGiv55AD24lV",
        "outputId": "84b1e1c6-0c4f-4944-9a86-4830c114a77e"
      },
      "execution_count": null,
      "outputs": [
        {
          "output_type": "stream",
          "name": "stdout",
          "text": [
            "['Screen Filters' 'Gaskets' 'Seals Gaskets and O-Rings' 'Bolts and Screws'\n",
            " 'Kit - Drivetrain and Steering' 'Washers and Spacers' 'Shims'\n",
            " 'Caps and Plugs' 'Impellers' 'Clamps and Clips' 'Hose Assemblies'\n",
            " 'Housings and Covers' 'Grommets' 'Fasteners Nuts' 'Hose adapters'\n",
            " 'Bearings' 'Kit - Maintenance' 'Kit - Engines' 'Springs' 'Water Pumps'\n",
            " 'Rotating Seals' 'Pins' 'Injectors' 'Valve Cartridges'\n",
            " 'Information Films' 'Rings' 'Grease' 'Valve Components'\n",
            " 'Driveshafts and Joint Groups' 'Friction Discs' 'Kit - Hydraulics'\n",
            " 'Retaining Rings' 'Thrust Washers' 'Bars Plates and Strips'\n",
            " 'Transmission Cases' 'Fasteners Studs' 'Solid Rods' 'Duo Cone Group'\n",
            " 'Brake Groups' 'Planet Carriers' 'Dowel Pins' 'Controls-Switching'\n",
            " 'Joystick Components' 'Breathers' 'Tubes' 'Tanks'\n",
            " 'Hydraulics Filter Components' 'Temperature Sensors' 'Mounts'\n",
            " 'Bearing Housings' 'No Data' 'Hyd Cylinder Piston' 'Separator Plates'\n",
            " 'Valve Groups and Assemblies' 'Brake Valves' 'Shafts' 'Fasteners Rivets'\n",
            " 'Connector' 'Fluid Filter' 'Hubs' 'Housing' 'Yoke Assemblies'\n",
            " 'Master Cylinders' 'Manually Operated Valves' 'Turbos and Turbo Groups'\n",
            " 'Planet Gears' 'Trunnion Supports' 'Sun Gears'\n",
            " 'Dealer Shop Supplies and Specialty' 'Shaft Seals' 'Sensors'\n",
            " 'Retaining Pins' 'DT Valve Groups' 'Thermostat' 'Tube Components'\n",
            " 'Other Non-Metallic Covers and Supports' 'Linkage Pins' 'Bridge'\n",
            " 'Pulleys' 'Spherical Balls' 'Controls-Primary' 'Custom Supports'\n",
            " 'Bulk Seals' 'Connector Components' 'Bearing' 'Yokes' 'Needs Class'\n",
            " 'Seat Assembly' 'Bearing Retainers'\n",
            " 'Accumulators and Accumulator Components' 'Cartridges' 'Rounds'\n",
            " 'Being reviewed' 'Position Sensors' 'Fuel Pumps' 'Buttons and Knobs'\n",
            " 'Threaded Bosses' 'Common Electrical Components'\n",
            " 'Brackets Supports and Mounts' 'Valve In-line' 'Harness Assembly'\n",
            " 'Dust Ejector Check Valves' 'Accumulators Receivers and Dryers' 'Hub'\n",
            " 'Trunnions' 'Carburetors and Governors' 'Gears' 'Brake Anchor'\n",
            " 'Other Metallic Covers' 'Control Units and ECMs' 'Dealer Service Tools'\n",
            " 'Impeller Hubs' 'Dampers' 'Tube and Bellows Assemblies'\n",
            " 'Speed and Timing Sensors' 'Miscellaneous Cylinder Components'\n",
            " 'Grab Handles' 'Kit - Electronics' 'Terminal Blocks' 'Belts' 'Spindles'\n",
            " 'P&M Pressure Plates and Blocks' 'Other Operator Control Components'\n",
            " 'Latches' 'P&M Actuator and Control Parts' 'Foam Insulation and Liners'\n",
            " 'Hose Guards' 'Oils' 'Wheels' 'Brake Linings' 'Cooling Module'\n",
            " 'Electrical Connectors' 'Radiator Caps' 'Control Valves'\n",
            " 'Fuel Filter Components' 'Levers and Links' 'Yoke' 'Trays'\n",
            " 'Information Plates' 'Seals' 'Covers' 'Pressure Caps' 'Bumpers'\n",
            " 'Foot Pedal' 'Manifolds' 'Structural Fabrications' 'Lube Filters'\n",
            " 'Elbows' 'Cabin Air' 'Compressor Bypass Valve' 'Heat Shrinks' 'Dipsticks'\n",
            " 'P&M Housings and Bodies' 'Keys' 'Clutch Piston' 'Engine Bearings'\n",
            " 'Power Socket' 'Hyd Cylinder Groups' 'Ignition Switch and Key'\n",
            " 'Brake Piston' 'One Piece' 'Alarm' 'Angles and Channels'\n",
            " 'Tank Groups and Assemblies' 'Hyd Cylinder Rod Assembly' 'Mounts Bushing'\n",
            " 'Pressure Switches' 'Service and Repair Drivetrain and Steering Kit'\n",
            " 'Yoke-Clevis' 'Spherical Rings' 'Bushing' 'Other Turbo Components'\n",
            " 'Engine Air Components' 'Parking Brake Discs' 'Supports' 'Gear Groups'\n",
            " 'Cooling Tanks' 'Rod Eye' 'Turbo Housings and Covers'\n",
            " 'Liquid Level Sensors' 'Air Cooler' 'Valves'\n",
            " 'P&M Gears and Gear Assemblies' 'Engine Covers' 'Hand Levers' 'Heaters'\n",
            " 'Fast Fill' 'Telematics' 'Temperature Switches']\n"
          ]
        }
      ]
    },
    {
      "cell_type": "code",
      "source": [
        "print(list(currparts))"
      ],
      "metadata": {
        "colab": {
          "base_uri": "https://localhost:8080/"
        },
        "id": "dRF-ZEpuDAv0",
        "outputId": "640631ce-9718-41e7-d439-1fbb4cd0a463"
      },
      "execution_count": null,
      "outputs": [
        {
          "output_type": "stream",
          "name": "stdout",
          "text": [
            "['Screen Filters', 'Gaskets', 'Seals Gaskets and O-Rings', 'Bolts and Screws', 'Kit - Drivetrain and Steering', 'Washers and Spacers', 'Shims', 'Caps and Plugs', 'Impellers', 'Clamps and Clips', 'Hose Assemblies', 'Housings and Covers', 'Grommets', 'Fasteners Nuts', 'Hose adapters', 'Bearings', 'Kit - Maintenance', 'Kit - Engines', 'Springs', 'Water Pumps', 'Rotating Seals', 'Pins', 'Injectors', 'Valve Cartridges', 'Information Films', 'Rings', 'Grease', 'Valve Components', 'Driveshafts and Joint Groups', 'Friction Discs', 'Kit - Hydraulics', 'Retaining Rings', 'Thrust Washers', 'Bars Plates and Strips', 'Transmission Cases', 'Fasteners Studs', 'Solid Rods', 'Duo Cone Group', 'Brake Groups', 'Planet Carriers', 'Dowel Pins', 'Controls-Switching', 'Joystick Components', 'Breathers', 'Tubes', 'Tanks', 'Hydraulics Filter Components', 'Temperature Sensors', 'Mounts', 'Bearing Housings', 'No Data', 'Hyd Cylinder Piston', 'Separator Plates', 'Valve Groups and Assemblies', 'Brake Valves', 'Shafts', 'Fasteners Rivets', 'Connector', 'Fluid Filter', 'Hubs', 'Housing', 'Yoke Assemblies', 'Master Cylinders', 'Manually Operated Valves', 'Turbos and Turbo Groups', 'Planet Gears', 'Trunnion Supports', 'Sun Gears', 'Dealer Shop Supplies and Specialty', 'Shaft Seals', 'Sensors', 'Retaining Pins', 'DT Valve Groups', 'Thermostat', 'Tube Components', 'Other Non-Metallic Covers and Supports', 'Linkage Pins', 'Bridge', 'Pulleys', 'Spherical Balls', 'Controls-Primary', 'Custom Supports', 'Bulk Seals', 'Connector Components', 'Bearing', 'Yokes', 'Needs Class', 'Seat Assembly', 'Bearing Retainers', 'Accumulators and Accumulator Components', 'Cartridges', 'Rounds', 'Being reviewed', 'Position Sensors', 'Fuel Pumps', 'Buttons and Knobs', 'Threaded Bosses', 'Common Electrical Components', 'Brackets Supports and Mounts', 'Valve In-line', 'Harness Assembly', 'Dust Ejector Check Valves', 'Accumulators Receivers and Dryers', 'Hub', 'Trunnions', 'Carburetors and Governors', 'Gears', 'Brake Anchor', 'Other Metallic Covers', 'Control Units and ECMs', 'Dealer Service Tools', 'Impeller Hubs', 'Dampers', 'Tube and Bellows Assemblies', 'Speed and Timing Sensors', 'Miscellaneous Cylinder Components', 'Grab Handles', 'Kit - Electronics', 'Terminal Blocks', 'Belts', 'Spindles', 'P&M Pressure Plates and Blocks', 'Other Operator Control Components', 'Latches', 'P&M Actuator and Control Parts', 'Foam Insulation and Liners', 'Hose Guards', 'Oils', 'Wheels', 'Brake Linings', 'Cooling Module', 'Electrical Connectors', 'Radiator Caps', 'Control Valves', 'Fuel Filter Components', 'Levers and Links', 'Yoke', 'Trays', 'Information Plates', 'Seals', 'Covers', 'Pressure Caps', 'Bumpers', 'Foot Pedal', 'Manifolds', 'Structural Fabrications', 'Lube Filters', 'Elbows', 'Cabin Air', 'Compressor Bypass Valve', 'Heat Shrinks', 'Dipsticks', 'P&M Housings and Bodies', 'Keys', 'Clutch Piston', 'Engine Bearings', 'Power Socket', 'Hyd Cylinder Groups', 'Ignition Switch and Key', 'Brake Piston', 'One Piece', 'Alarm', 'Angles and Channels', 'Tank Groups and Assemblies', 'Hyd Cylinder Rod Assembly', 'Mounts Bushing', 'Pressure Switches', 'Service and Repair Drivetrain and Steering Kit', 'Yoke-Clevis', 'Spherical Rings', 'Bushing', 'Other Turbo Components', 'Engine Air Components', 'Parking Brake Discs', 'Supports', 'Gear Groups', 'Cooling Tanks', 'Rod Eye', 'Turbo Housings and Covers', 'Liquid Level Sensors', 'Air Cooler', 'Valves', 'P&M Gears and Gear Assemblies', 'Engine Covers', 'Hand Levers', 'Heaters', 'Fast Fill', 'Telematics', 'Temperature Switches']\n"
          ]
        }
      ]
    },
    {
      "cell_type": "code",
      "source": [
        "ser_part=pd.Series(newdf['PART_NAME'].values,index=newdf['SERVICE']).to_dict()\n",
        "print(ser_part)"
      ],
      "metadata": {
        "colab": {
          "base_uri": "https://localhost:8080/"
        },
        "id": "XhX9r5FQHIQM",
        "outputId": "23cbee9c-ac99-458f-fb28-ce422371d9bf"
      },
      "execution_count": null,
      "outputs": [
        {
          "output_type": "stream",
          "name": "stdout",
          "text": [
            "{'Drivetrain-Brakes-Rebuild': 'Fast Fill', 'Drivetrain-Axle-Rebuild': 'Temperature Switches', 'Engine-Injector Group-Rebuild': 'Bulk Seals', 'Drivetrain-Brakes-Repair': 'Joystick Components', 'Engine-Water Pump Group-Rebuild': 'Hose adapters', 'Engine-Turbo Group-Rebuild': 'Engine Covers', 'Drivetrain-Differential-Repair': 'Duo Cone Group', 'Engine-Engine cooling system-Replacement': 'Heaters'}\n"
          ]
        }
      ]
    },
    {
      "cell_type": "code",
      "source": [
        "print(len(ser_part))"
      ],
      "metadata": {
        "colab": {
          "base_uri": "https://localhost:8080/"
        },
        "id": "eC2Qx1_9HITl",
        "outputId": "f9ddac6a-9ad8-48ef-ae19-e3c8ae64b466"
      },
      "execution_count": null,
      "outputs": [
        {
          "output_type": "stream",
          "name": "stdout",
          "text": [
            "8\n"
          ]
        }
      ]
    },
    {
      "cell_type": "code",
      "source": [
        "from sklearn.metrics.pairwise import cosine_similarity"
      ],
      "metadata": {
        "id": "Fb2kF4lW9Mjs"
      },
      "execution_count": null,
      "outputs": []
    },
    {
      "cell_type": "code",
      "source": [
        "newdf = newdf.pivot(index='SERVICE', columns='PART_NAME', values='count')\n",
        "\n",
        "newdf.fillna(0, inplace=True)"
      ],
      "metadata": {
        "id": "XO6k7kCb9Rcd"
      },
      "execution_count": null,
      "outputs": []
    },
    {
      "cell_type": "code",
      "source": [
        "newdf.head()"
      ],
      "metadata": {
        "colab": {
          "base_uri": "https://localhost:8080/",
          "height": 573
        },
        "id": "y4xrQogg9Zbd",
        "outputId": "1409c3ab-718f-4c9f-81e7-a5c4c65e4bd2"
      },
      "execution_count": null,
      "outputs": [
        {
          "output_type": "execute_result",
          "data": {
            "text/plain": [
              "PART_NAME                                 Accumulators Receivers and Dryers  \\\n",
              "SERVICE                                                                       \n",
              "Drivetrain-Axle-Rebuild                                                 0.0   \n",
              "Drivetrain-Brakes-Rebuild                                              10.0   \n",
              "Drivetrain-Brakes-Repair                                                1.0   \n",
              "Drivetrain-Differential-Repair                                          0.0   \n",
              "Engine-Engine cooling system-Replacement                                0.0   \n",
              "\n",
              "PART_NAME                                 Accumulators and Accumulator Components  \\\n",
              "SERVICE                                                                             \n",
              "Drivetrain-Axle-Rebuild                                                       0.0   \n",
              "Drivetrain-Brakes-Rebuild                                                    72.0   \n",
              "Drivetrain-Brakes-Repair                                                      4.0   \n",
              "Drivetrain-Differential-Repair                                                0.0   \n",
              "Engine-Engine cooling system-Replacement                                      0.0   \n",
              "\n",
              "PART_NAME                                 Air Cooler  Alarm  \\\n",
              "SERVICE                                                       \n",
              "Drivetrain-Axle-Rebuild                          0.0    0.0   \n",
              "Drivetrain-Brakes-Rebuild                        0.0    2.0   \n",
              "Drivetrain-Brakes-Repair                         0.0    0.0   \n",
              "Drivetrain-Differential-Repair                   0.0    0.0   \n",
              "Engine-Engine cooling system-Replacement         1.0    0.0   \n",
              "\n",
              "PART_NAME                                 Angles and Channels  \\\n",
              "SERVICE                                                         \n",
              "Drivetrain-Axle-Rebuild                                   0.0   \n",
              "Drivetrain-Brakes-Rebuild                                 0.0   \n",
              "Drivetrain-Brakes-Repair                                  0.0   \n",
              "Drivetrain-Differential-Repair                            1.0   \n",
              "Engine-Engine cooling system-Replacement                  0.0   \n",
              "\n",
              "PART_NAME                                 Bars Plates and Strips  Bearing  \\\n",
              "SERVICE                                                                     \n",
              "Drivetrain-Axle-Rebuild                                    307.0     12.0   \n",
              "Drivetrain-Brakes-Rebuild                                  804.0      0.0   \n",
              "Drivetrain-Brakes-Repair                                     1.0      0.0   \n",
              "Drivetrain-Differential-Repair                               1.0      0.0   \n",
              "Engine-Engine cooling system-Replacement                     0.0      0.0   \n",
              "\n",
              "PART_NAME                                 Bearing Housings  Bearing Retainers  \\\n",
              "SERVICE                                                                         \n",
              "Drivetrain-Axle-Rebuild                              152.0                1.0   \n",
              "Drivetrain-Brakes-Rebuild                              0.0               71.0   \n",
              "Drivetrain-Brakes-Repair                               0.0                0.0   \n",
              "Drivetrain-Differential-Repair                         0.0                2.0   \n",
              "Engine-Engine cooling system-Replacement               0.0                0.0   \n",
              "\n",
              "PART_NAME                                 Bearings  ...  \\\n",
              "SERVICE                                             ...   \n",
              "Drivetrain-Axle-Rebuild                     1689.0  ...   \n",
              "Drivetrain-Brakes-Rebuild                    805.0  ...   \n",
              "Drivetrain-Brakes-Repair                     106.0  ...   \n",
              "Drivetrain-Differential-Repair                 8.0  ...   \n",
              "Engine-Engine cooling system-Replacement       0.0  ...   \n",
              "\n",
              "PART_NAME                                 Valve Groups and Assemblies  \\\n",
              "SERVICE                                                                 \n",
              "Drivetrain-Axle-Rebuild                                           0.0   \n",
              "Drivetrain-Brakes-Rebuild                                       251.0   \n",
              "Drivetrain-Brakes-Repair                                         13.0   \n",
              "Drivetrain-Differential-Repair                                    0.0   \n",
              "Engine-Engine cooling system-Replacement                          0.0   \n",
              "\n",
              "PART_NAME                                 Valve In-line  Valves  \\\n",
              "SERVICE                                                           \n",
              "Drivetrain-Axle-Rebuild                             0.0     0.0   \n",
              "Drivetrain-Brakes-Rebuild                          52.0     1.0   \n",
              "Drivetrain-Brakes-Repair                            0.0     0.0   \n",
              "Drivetrain-Differential-Repair                      0.0     0.0   \n",
              "Engine-Engine cooling system-Replacement            0.0     0.0   \n",
              "\n",
              "PART_NAME                                 Washers and Spacers  Water Pumps  \\\n",
              "SERVICE                                                                      \n",
              "Drivetrain-Axle-Rebuild                                 686.0          0.0   \n",
              "Drivetrain-Brakes-Rebuild                               869.0          0.0   \n",
              "Drivetrain-Brakes-Repair                                 84.0          0.0   \n",
              "Drivetrain-Differential-Repair                           15.0          0.0   \n",
              "Engine-Engine cooling system-Replacement                  3.0          0.0   \n",
              "\n",
              "PART_NAME                                 Wheels  Yoke  Yoke Assemblies  \\\n",
              "SERVICE                                                                   \n",
              "Drivetrain-Axle-Rebuild                      3.0   0.0            182.0   \n",
              "Drivetrain-Brakes-Rebuild                    3.0   0.0              0.0   \n",
              "Drivetrain-Brakes-Repair                     0.0   0.0              0.0   \n",
              "Drivetrain-Differential-Repair               0.0   1.0              1.0   \n",
              "Engine-Engine cooling system-Replacement     0.0   0.0              0.0   \n",
              "\n",
              "PART_NAME                                 Yoke-Clevis  Yokes  \n",
              "SERVICE                                                       \n",
              "Drivetrain-Axle-Rebuild                           0.0   46.0  \n",
              "Drivetrain-Brakes-Rebuild                         1.0    0.0  \n",
              "Drivetrain-Brakes-Repair                          0.0    0.0  \n",
              "Drivetrain-Differential-Repair                    0.0    0.0  \n",
              "Engine-Engine cooling system-Replacement          0.0    0.0  \n",
              "\n",
              "[5 rows x 189 columns]"
            ],
            "text/html": [
              "\n",
              "  <div id=\"df-2e62828a-640e-453c-956a-36ce4c5d562e\">\n",
              "    <div class=\"colab-df-container\">\n",
              "      <div>\n",
              "<style scoped>\n",
              "    .dataframe tbody tr th:only-of-type {\n",
              "        vertical-align: middle;\n",
              "    }\n",
              "\n",
              "    .dataframe tbody tr th {\n",
              "        vertical-align: top;\n",
              "    }\n",
              "\n",
              "    .dataframe thead th {\n",
              "        text-align: right;\n",
              "    }\n",
              "</style>\n",
              "<table border=\"1\" class=\"dataframe\">\n",
              "  <thead>\n",
              "    <tr style=\"text-align: right;\">\n",
              "      <th>PART_NAME</th>\n",
              "      <th>Accumulators Receivers and Dryers</th>\n",
              "      <th>Accumulators and Accumulator Components</th>\n",
              "      <th>Air Cooler</th>\n",
              "      <th>Alarm</th>\n",
              "      <th>Angles and Channels</th>\n",
              "      <th>Bars Plates and Strips</th>\n",
              "      <th>Bearing</th>\n",
              "      <th>Bearing Housings</th>\n",
              "      <th>Bearing Retainers</th>\n",
              "      <th>Bearings</th>\n",
              "      <th>...</th>\n",
              "      <th>Valve Groups and Assemblies</th>\n",
              "      <th>Valve In-line</th>\n",
              "      <th>Valves</th>\n",
              "      <th>Washers and Spacers</th>\n",
              "      <th>Water Pumps</th>\n",
              "      <th>Wheels</th>\n",
              "      <th>Yoke</th>\n",
              "      <th>Yoke Assemblies</th>\n",
              "      <th>Yoke-Clevis</th>\n",
              "      <th>Yokes</th>\n",
              "    </tr>\n",
              "    <tr>\n",
              "      <th>SERVICE</th>\n",
              "      <th></th>\n",
              "      <th></th>\n",
              "      <th></th>\n",
              "      <th></th>\n",
              "      <th></th>\n",
              "      <th></th>\n",
              "      <th></th>\n",
              "      <th></th>\n",
              "      <th></th>\n",
              "      <th></th>\n",
              "      <th></th>\n",
              "      <th></th>\n",
              "      <th></th>\n",
              "      <th></th>\n",
              "      <th></th>\n",
              "      <th></th>\n",
              "      <th></th>\n",
              "      <th></th>\n",
              "      <th></th>\n",
              "      <th></th>\n",
              "      <th></th>\n",
              "    </tr>\n",
              "  </thead>\n",
              "  <tbody>\n",
              "    <tr>\n",
              "      <th>Drivetrain-Axle-Rebuild</th>\n",
              "      <td>0.0</td>\n",
              "      <td>0.0</td>\n",
              "      <td>0.0</td>\n",
              "      <td>0.0</td>\n",
              "      <td>0.0</td>\n",
              "      <td>307.0</td>\n",
              "      <td>12.0</td>\n",
              "      <td>152.0</td>\n",
              "      <td>1.0</td>\n",
              "      <td>1689.0</td>\n",
              "      <td>...</td>\n",
              "      <td>0.0</td>\n",
              "      <td>0.0</td>\n",
              "      <td>0.0</td>\n",
              "      <td>686.0</td>\n",
              "      <td>0.0</td>\n",
              "      <td>3.0</td>\n",
              "      <td>0.0</td>\n",
              "      <td>182.0</td>\n",
              "      <td>0.0</td>\n",
              "      <td>46.0</td>\n",
              "    </tr>\n",
              "    <tr>\n",
              "      <th>Drivetrain-Brakes-Rebuild</th>\n",
              "      <td>10.0</td>\n",
              "      <td>72.0</td>\n",
              "      <td>0.0</td>\n",
              "      <td>2.0</td>\n",
              "      <td>0.0</td>\n",
              "      <td>804.0</td>\n",
              "      <td>0.0</td>\n",
              "      <td>0.0</td>\n",
              "      <td>71.0</td>\n",
              "      <td>805.0</td>\n",
              "      <td>...</td>\n",
              "      <td>251.0</td>\n",
              "      <td>52.0</td>\n",
              "      <td>1.0</td>\n",
              "      <td>869.0</td>\n",
              "      <td>0.0</td>\n",
              "      <td>3.0</td>\n",
              "      <td>0.0</td>\n",
              "      <td>0.0</td>\n",
              "      <td>1.0</td>\n",
              "      <td>0.0</td>\n",
              "    </tr>\n",
              "    <tr>\n",
              "      <th>Drivetrain-Brakes-Repair</th>\n",
              "      <td>1.0</td>\n",
              "      <td>4.0</td>\n",
              "      <td>0.0</td>\n",
              "      <td>0.0</td>\n",
              "      <td>0.0</td>\n",
              "      <td>1.0</td>\n",
              "      <td>0.0</td>\n",
              "      <td>0.0</td>\n",
              "      <td>0.0</td>\n",
              "      <td>106.0</td>\n",
              "      <td>...</td>\n",
              "      <td>13.0</td>\n",
              "      <td>0.0</td>\n",
              "      <td>0.0</td>\n",
              "      <td>84.0</td>\n",
              "      <td>0.0</td>\n",
              "      <td>0.0</td>\n",
              "      <td>0.0</td>\n",
              "      <td>0.0</td>\n",
              "      <td>0.0</td>\n",
              "      <td>0.0</td>\n",
              "    </tr>\n",
              "    <tr>\n",
              "      <th>Drivetrain-Differential-Repair</th>\n",
              "      <td>0.0</td>\n",
              "      <td>0.0</td>\n",
              "      <td>0.0</td>\n",
              "      <td>0.0</td>\n",
              "      <td>1.0</td>\n",
              "      <td>1.0</td>\n",
              "      <td>0.0</td>\n",
              "      <td>0.0</td>\n",
              "      <td>2.0</td>\n",
              "      <td>8.0</td>\n",
              "      <td>...</td>\n",
              "      <td>0.0</td>\n",
              "      <td>0.0</td>\n",
              "      <td>0.0</td>\n",
              "      <td>15.0</td>\n",
              "      <td>0.0</td>\n",
              "      <td>0.0</td>\n",
              "      <td>1.0</td>\n",
              "      <td>1.0</td>\n",
              "      <td>0.0</td>\n",
              "      <td>0.0</td>\n",
              "    </tr>\n",
              "    <tr>\n",
              "      <th>Engine-Engine cooling system-Replacement</th>\n",
              "      <td>0.0</td>\n",
              "      <td>0.0</td>\n",
              "      <td>1.0</td>\n",
              "      <td>0.0</td>\n",
              "      <td>0.0</td>\n",
              "      <td>0.0</td>\n",
              "      <td>0.0</td>\n",
              "      <td>0.0</td>\n",
              "      <td>0.0</td>\n",
              "      <td>0.0</td>\n",
              "      <td>...</td>\n",
              "      <td>0.0</td>\n",
              "      <td>0.0</td>\n",
              "      <td>0.0</td>\n",
              "      <td>3.0</td>\n",
              "      <td>0.0</td>\n",
              "      <td>0.0</td>\n",
              "      <td>0.0</td>\n",
              "      <td>0.0</td>\n",
              "      <td>0.0</td>\n",
              "      <td>0.0</td>\n",
              "    </tr>\n",
              "  </tbody>\n",
              "</table>\n",
              "<p>5 rows × 189 columns</p>\n",
              "</div>\n",
              "      <button class=\"colab-df-convert\" onclick=\"convertToInteractive('df-2e62828a-640e-453c-956a-36ce4c5d562e')\"\n",
              "              title=\"Convert this dataframe to an interactive table.\"\n",
              "              style=\"display:none;\">\n",
              "        \n",
              "  <svg xmlns=\"http://www.w3.org/2000/svg\" height=\"24px\"viewBox=\"0 0 24 24\"\n",
              "       width=\"24px\">\n",
              "    <path d=\"M0 0h24v24H0V0z\" fill=\"none\"/>\n",
              "    <path d=\"M18.56 5.44l.94 2.06.94-2.06 2.06-.94-2.06-.94-.94-2.06-.94 2.06-2.06.94zm-11 1L8.5 8.5l.94-2.06 2.06-.94-2.06-.94L8.5 2.5l-.94 2.06-2.06.94zm10 10l.94 2.06.94-2.06 2.06-.94-2.06-.94-.94-2.06-.94 2.06-2.06.94z\"/><path d=\"M17.41 7.96l-1.37-1.37c-.4-.4-.92-.59-1.43-.59-.52 0-1.04.2-1.43.59L10.3 9.45l-7.72 7.72c-.78.78-.78 2.05 0 2.83L4 21.41c.39.39.9.59 1.41.59.51 0 1.02-.2 1.41-.59l7.78-7.78 2.81-2.81c.8-.78.8-2.07 0-2.86zM5.41 20L4 18.59l7.72-7.72 1.47 1.35L5.41 20z\"/>\n",
              "  </svg>\n",
              "      </button>\n",
              "      \n",
              "  <style>\n",
              "    .colab-df-container {\n",
              "      display:flex;\n",
              "      flex-wrap:wrap;\n",
              "      gap: 12px;\n",
              "    }\n",
              "\n",
              "    .colab-df-convert {\n",
              "      background-color: #E8F0FE;\n",
              "      border: none;\n",
              "      border-radius: 50%;\n",
              "      cursor: pointer;\n",
              "      display: none;\n",
              "      fill: #1967D2;\n",
              "      height: 32px;\n",
              "      padding: 0 0 0 0;\n",
              "      width: 32px;\n",
              "    }\n",
              "\n",
              "    .colab-df-convert:hover {\n",
              "      background-color: #E2EBFA;\n",
              "      box-shadow: 0px 1px 2px rgba(60, 64, 67, 0.3), 0px 1px 3px 1px rgba(60, 64, 67, 0.15);\n",
              "      fill: #174EA6;\n",
              "    }\n",
              "\n",
              "    [theme=dark] .colab-df-convert {\n",
              "      background-color: #3B4455;\n",
              "      fill: #D2E3FC;\n",
              "    }\n",
              "\n",
              "    [theme=dark] .colab-df-convert:hover {\n",
              "      background-color: #434B5C;\n",
              "      box-shadow: 0px 1px 3px 1px rgba(0, 0, 0, 0.15);\n",
              "      filter: drop-shadow(0px 1px 2px rgba(0, 0, 0, 0.3));\n",
              "      fill: #FFFFFF;\n",
              "    }\n",
              "  </style>\n",
              "\n",
              "      <script>\n",
              "        const buttonEl =\n",
              "          document.querySelector('#df-2e62828a-640e-453c-956a-36ce4c5d562e button.colab-df-convert');\n",
              "        buttonEl.style.display =\n",
              "          google.colab.kernel.accessAllowed ? 'block' : 'none';\n",
              "\n",
              "        async function convertToInteractive(key) {\n",
              "          const element = document.querySelector('#df-2e62828a-640e-453c-956a-36ce4c5d562e');\n",
              "          const dataTable =\n",
              "            await google.colab.kernel.invokeFunction('convertToInteractive',\n",
              "                                                     [key], {});\n",
              "          if (!dataTable) return;\n",
              "\n",
              "          const docLinkHtml = 'Like what you see? Visit the ' +\n",
              "            '<a target=\"_blank\" href=https://colab.research.google.com/notebooks/data_table.ipynb>data table notebook</a>'\n",
              "            + ' to learn more about interactive tables.';\n",
              "          element.innerHTML = '';\n",
              "          dataTable['output_type'] = 'display_data';\n",
              "          await google.colab.output.renderOutput(dataTable, element);\n",
              "          const docLink = document.createElement('div');\n",
              "          docLink.innerHTML = docLinkHtml;\n",
              "          element.appendChild(docLink);\n",
              "        }\n",
              "      </script>\n",
              "    </div>\n",
              "  </div>\n",
              "  "
            ]
          },
          "metadata": {},
          "execution_count": 61
        }
      ]
    },
    {
      "cell_type": "code",
      "source": [
        "parts_sim = cosine_similarity(newdf.T)"
      ],
      "metadata": {
        "id": "4dIo0rxm93Ac"
      },
      "execution_count": null,
      "outputs": []
    },
    {
      "cell_type": "code",
      "source": [
        "print(similar_parts)"
      ],
      "metadata": {
        "id": "MYVdi4im_0vl",
        "colab": {
          "base_uri": "https://localhost:8080/"
        },
        "outputId": "cedcf773-66e9-4da8-b6e6-5cfc350e77fa"
      },
      "execution_count": null,
      "outputs": [
        {
          "output_type": "stream",
          "name": "stdout",
          "text": [
            "[]\n"
          ]
        }
      ]
    },
    {
      "cell_type": "code",
      "source": [
        "print(parts_sim)"
      ],
      "metadata": {
        "colab": {
          "base_uri": "https://localhost:8080/"
        },
        "id": "iX65XR-6ZB8_",
        "outputId": "06805401-bb0c-450d-8f34-53f591a344a0"
      },
      "execution_count": null,
      "outputs": [
        {
          "output_type": "stream",
          "name": "stdout",
          "text": [
            "[[1.         0.99902466 0.         ... 0.         0.99503719 0.        ]\n",
            " [0.99902466 1.         0.         ... 0.         0.99846035 0.        ]\n",
            " [0.         0.         1.         ... 0.         0.         0.        ]\n",
            " ...\n",
            " [0.         0.         0.         ... 1.         0.         0.99998491]\n",
            " [0.99503719 0.99846035 0.         ... 0.         1.         0.        ]\n",
            " [0.         0.         0.         ... 0.99998491 0.         1.        ]]\n"
          ]
        }
      ]
    },
    {
      "cell_type": "code",
      "source": [
        "\n",
        "# given_parts = ['Clamps and Clips', 'Seals Gaskets and O-Rings', 'Hose Assemblies', 'Washers and Spacers']\n",
        "given_parts=['Accumulators and Accumulator Components', 'Kit - Maintenance', 'Air Cooler', 'Bars Plates and Strips']\n",
        "similar_parts = []\n",
        "for parts in given_parts:\n",
        "    part_index = newdf.columns.get_loc(parts)\n",
        "    similar_part_indices = parts_sim[part_index].argsort()[::-1][1:]\n",
        "    similar_parts.extend(newdf.columns[similar_part_indices])\n",
        "\n",
        "recommendations = newdf.loc[:, similar_parts].sum().sort_values(ascending=False)\n",
        "\n",
        "recommended_parties = recommendations[~recommendations.index.isin(given_parts)]\n",
        "\n",
        "fifth_part = recommended_parties.index[0]\n",
        "\n",
        "print(\"Recommended 5th parts:\", fifth_part)"
      ],
      "metadata": {
        "colab": {
          "base_uri": "https://localhost:8080/"
        },
        "id": "aA2mN6LRZw0v",
        "outputId": "1d2184de-991e-49bc-db2a-f0ba4cfad353"
      },
      "execution_count": null,
      "outputs": [
        {
          "output_type": "stream",
          "name": "stdout",
          "text": [
            "Recommended 5th parts: Seals Gaskets and O-Rings\n"
          ]
        }
      ]
    },
    {
      "cell_type": "code",
      "source": [],
      "metadata": {
        "id": "GpYQ3tkBZ4E5"
      },
      "execution_count": null,
      "outputs": []
    }
  ]
}