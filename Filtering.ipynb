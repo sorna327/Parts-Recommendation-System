{
  "nbformat": 4,
  "nbformat_minor": 0,
  "metadata": {
    "colab": {
      "provenance": []
    },
    "kernelspec": {
      "name": "python3",
      "display_name": "Python 3"
    },
    "language_info": {
      "name": "python"
    }
  },
  "cells": [
    {
      "cell_type": "code",
      "execution_count": null,
      "metadata": {
        "colab": {
          "base_uri": "https://localhost:8080/"
        },
        "id": "B-54YJDPXTMt",
        "outputId": "80078699-feed-4f47-b2aa-eba045d8c020"
      },
      "outputs": [
        {
          "output_type": "stream",
          "name": "stdout",
          "text": [
            "                     SERVICE                      PART_NAME  \\\n",
            "0  drivetrain-brakes-rebuild                 screen filters   \n",
            "1  drivetrain-brakes-rebuild                        gaskets   \n",
            "2  drivetrain-brakes-rebuild    seals, gaskets, and o-rings   \n",
            "3    drivetrain-axle-rebuild               bolts and screws   \n",
            "5  drivetrain-brakes-rebuild  kit - drivetrain and steering   \n",
            "\n",
            "                   INVOICE_ID INVOICE_DATE PART_NUMBER SALES_MODEL  \n",
            "0  U370/9670114009-3350006692   2020-06-17      5O7126        289Y  \n",
            "1        M060/M060-3073812939   2020-04-30      3N6968        289Y  \n",
            "2  U370/9670558168-3300504198   2021-07-20      1U0931        289Y  \n",
            "3            W700/CTS33550363   2020-08-14      0L0181        488V  \n",
            "5           E050/003503232507   2019-01-25     3090952        289Y  \n"
          ]
        }
      ],
      "source": [
        "import pandas as pd\n",
        "\n",
        "# Load the dataset\n",
        "data = pd.read_csv('Parts_Recommendation_CaseStudy.csv')\n",
        "\n",
        "# Remove duplicates\n",
        "data = data.drop_duplicates()\n",
        "\n",
        "# Remove irrelevant columns if any\n",
        "data = data[['SERVICE', 'PART_NAME','INVOICE_ID','INVOICE_DATE','PART_NUMBER','SALES_MODEL']]\n",
        "\n",
        "# Optional: Convert to lowercase for case-insensitive matching\n",
        "data['SERVICE'] = data['SERVICE'].str.lower()\n",
        "data['PART_NAME'] = data['PART_NAME'].str.lower()\n",
        "\n",
        "# Optional: Remove leading/trailing whitespaces\n",
        "data['SERVICE'] = data['SERVICE'].str.strip()\n",
        "data['PART_NAME'] = data['PART_NAME'].str.strip()\n",
        "\n",
        "# Optional: Handle missing values\n",
        "data = data.dropna()\n",
        "\n",
        "# Print the preprocessed data\n",
        "print(data.head())\n",
        "\n"
      ]
    },
    {
      "cell_type": "code",
      "source": [
        "data.info()"
      ],
      "metadata": {
        "colab": {
          "base_uri": "https://localhost:8080/"
        },
        "id": "BdK0GA1eXeAv",
        "outputId": "46d44078-b4bc-429b-d03f-6c3f3e157812"
      },
      "execution_count": null,
      "outputs": [
        {
          "output_type": "stream",
          "name": "stdout",
          "text": [
            "<class 'pandas.core.frame.DataFrame'>\n",
            "Int64Index: 93603 entries, 0 to 94626\n",
            "Data columns (total 6 columns):\n",
            " #   Column        Non-Null Count  Dtype \n",
            "---  ------        --------------  ----- \n",
            " 0   SERVICE       93603 non-null  object\n",
            " 1   PART_NAME     93603 non-null  object\n",
            " 2   INVOICE_ID    93603 non-null  object\n",
            " 3   INVOICE_DATE  93603 non-null  object\n",
            " 4   PART_NUMBER   93603 non-null  object\n",
            " 5   SALES_MODEL   93603 non-null  object\n",
            "dtypes: object(6)\n",
            "memory usage: 5.0+ MB\n"
          ]
        }
      ]
    },
    {
      "cell_type": "code",
      "source": [
        "# Create a user-item matrix\n",
        "user_item_matrix = pd.crosstab(data['SERVICE'], data['PART_NAME'])\n",
        "\n",
        "# Optional: Fill missing values with 0\n",
        "user_item_matrix = user_item_matrix.fillna(0)\n",
        "\n",
        "# Print the user-item matrix\n",
        "print(user_item_matrix.head(10))"
      ],
      "metadata": {
        "id": "pWoflCg2YMvb"
      },
      "execution_count": null,
      "outputs": []
    },
    {
      "cell_type": "code",
      "source": [
        "from sklearn.metrics.pairwise import cosine_similarity\n",
        "\n",
        "# Calculate the cosine similarity matrix\n",
        "similarity_matrix = cosine_similarity(user_item_matrix)\n",
        "\n",
        "# Convert the similarity matrix to a DataFrame\n",
        "similarity_df = pd.DataFrame(similarity_matrix, index=user_item_matrix.index, columns=user_item_matrix.index)\n",
        "\n",
        "# Print the similarity matrix\n",
        "print(similarity_df.head(1))\n"
      ],
      "metadata": {
        "id": "FPw0L5FUYdGF"
      },
      "execution_count": null,
      "outputs": []
    },
    {
      "cell_type": "code",
      "source": [
        "similarity_df.info()"
      ],
      "metadata": {
        "id": "phfYOYu7zYM6"
      },
      "execution_count": null,
      "outputs": []
    },
    {
      "cell_type": "code",
      "source": [
        "# Set the neighborhood size\n",
        "neighborhood_size = 5\n",
        "\n",
        "# Select the top N most similar services as the neighborhood\n",
        "neighborhood = {}\n",
        "for service in similarity_df.index:\n",
        "    similar_services = similarity_df.loc[service].nlargest(neighborhood_size+1).index.tolist()[1:]\n",
        "    neighborhood[service] = similar_services\n",
        "\n",
        "# Print the neighborhood for each service\n",
        "for service, similar_services in neighborhood.items():\n",
        "    print(f\"Service: {service}, Neighborhood: {similar_services}\")\n"
      ],
      "metadata": {
        "colab": {
          "base_uri": "https://localhost:8080/"
        },
        "id": "s6RlXMQcZPKX",
        "outputId": "b9e12ffe-b33b-4739-ee71-b18a18180e15"
      },
      "execution_count": null,
      "outputs": [
        {
          "output_type": "stream",
          "name": "stdout",
          "text": [
            "Service: drivetrain-axle-rebuild, Neighborhood: ['drivetrain-brakes-repair', 'engine-turbo group-rebuild', 'engine-injector group-rebuild', 'drivetrain-brakes-rebuild', 'engine-engine cooling system-replacement']\n",
            "Service: drivetrain-brakes-rebuild, Neighborhood: ['drivetrain-brakes-repair', 'engine-turbo group-rebuild', 'engine-injector group-rebuild', 'engine-engine cooling system-replacement', 'drivetrain-axle-rebuild']\n",
            "Service: drivetrain-brakes-repair, Neighborhood: ['drivetrain-brakes-rebuild', 'engine-injector group-rebuild', 'engine-turbo group-rebuild', 'drivetrain-axle-rebuild', 'engine-engine cooling system-replacement']\n",
            "Service: drivetrain-differential-repair, Neighborhood: ['engine-engine cooling system-replacement', 'drivetrain-brakes-rebuild', 'drivetrain-axle-rebuild', 'drivetrain-brakes-repair', 'engine-turbo group-rebuild']\n",
            "Service: engine-engine cooling system-replacement, Neighborhood: ['engine-turbo group-rebuild', 'drivetrain-brakes-rebuild', 'drivetrain-brakes-repair', 'engine-injector group-rebuild', 'engine-water pump group-rebuild']\n",
            "Service: engine-injector group-rebuild, Neighborhood: ['engine-turbo group-rebuild', 'drivetrain-brakes-repair', 'drivetrain-brakes-rebuild', 'drivetrain-axle-rebuild', 'engine-engine cooling system-replacement']\n",
            "Service: engine-turbo group-rebuild, Neighborhood: ['engine-injector group-rebuild', 'drivetrain-brakes-repair', 'drivetrain-brakes-rebuild', 'engine-engine cooling system-replacement', 'drivetrain-axle-rebuild']\n",
            "Service: engine-water pump group-rebuild, Neighborhood: ['engine-engine cooling system-replacement', 'engine-turbo group-rebuild', 'drivetrain-brakes-rebuild', 'drivetrain-brakes-repair', 'engine-injector group-rebuild']\n"
          ]
        }
      ]
    },
    {
      "cell_type": "code",
      "source": [
        "# Given set of parts\n",
        "given_parts = ['accumulators and accumulator components', 'accumulators, receivers, and dryers', 'air cooler  alarm', 'bars plates and strips']\n",
        "\n",
        "# Recommendation generation\n",
        "recommendations = {}\n",
        "\n",
        "for service in user_item_matrix.index:\n",
        "    similar_services = neighborhood[service]  # Get the similar services from the neighborhood\n",
        "\n",
        "    # Find parts used by similar services but not used by the given service\n",
        "    parts_used_by_similar_services = user_item_matrix.loc[similar_services].sum()\n",
        "    parts_not_used_by_service = parts_used_by_similar_services[~user_item_matrix.loc[service].astype(bool)]\n",
        "\n",
        "    # Filter the parts based on the given set\n",
        "    recommended_parts = parts_not_used_by_service[parts_not_used_by_service.index.isin(given_parts)]\n",
        "\n",
        "    # Rank the recommended parts based on frequency of usage\n",
        "    recommended_parts = recommended_parts.sort_values(ascending=False)\n",
        "\n",
        "    # Store the recommendations for the service\n",
        "    recommendations[service] = recommended_parts.index.tolist()\n",
        "\n",
        "# Print the recommendations for each service\n",
        "for service, recommended_parts in recommendations.items():\n",
        "    print(f\"Service: {service}, Recommended Parts: {recommended_parts}\")\n"
      ],
      "metadata": {
        "colab": {
          "base_uri": "https://localhost:8080/"
        },
        "id": "WOCfGF67aaQF",
        "outputId": "ca45b629-6e0f-4e9b-9aea-99150e536bd0"
      },
      "execution_count": null,
      "outputs": [
        {
          "output_type": "stream",
          "name": "stdout",
          "text": [
            "Service: drivetrain-axle-rebuild, Recommended Parts: ['accumulators and accumulator components', 'accumulators, receivers, and dryers', 'bars plates and strips']\n",
            "Service: drivetrain-brakes-rebuild, Recommended Parts: []\n",
            "Service: drivetrain-brakes-repair, Recommended Parts: ['bars plates and strips']\n",
            "Service: drivetrain-differential-repair, Recommended Parts: ['accumulators and accumulator components', 'accumulators, receivers, and dryers', 'bars plates and strips']\n",
            "Service: engine-engine cooling system-replacement, Recommended Parts: ['accumulators and accumulator components', 'accumulators, receivers, and dryers', 'bars plates and strips']\n",
            "Service: engine-injector group-rebuild, Recommended Parts: ['accumulators and accumulator components', 'accumulators, receivers, and dryers', 'bars plates and strips']\n",
            "Service: engine-turbo group-rebuild, Recommended Parts: ['accumulators and accumulator components', 'accumulators, receivers, and dryers', 'bars plates and strips']\n",
            "Service: engine-water pump group-rebuild, Recommended Parts: ['accumulators and accumulator components', 'accumulators, receivers, and dryers', 'bars plates and strips']\n"
          ]
        }
      ]
    },
    {
      "cell_type": "code",
      "source": [
        "# Set the input parts\n",
        "input_parts = ['accumulators and accumulator components', 'kit - maintenance', 'air cooler', 'bars plates and strips']\n",
        "\n",
        "# Recommendation generation for the fifth part\n",
        "recommendations = {}\n",
        "\n",
        "for service in user_item_matrix.index:\n",
        "    similar_services = neighborhood[service]  # Get the similar services from the neighborhood\n",
        "\n",
        "    # Find parts used by similar services but not in the input parts list\n",
        "    parts_used_by_similar_services = user_item_matrix.loc[similar_services].sum()\n",
        "    parts_not_in_input = parts_used_by_similar_services[~parts_used_by_similar_services.index.isin(input_parts)]\n",
        "\n",
        "    # Rank the recommended parts based on frequency of usage\n",
        "    recommended_parts = parts_not_in_input.sort_values(ascending=False)\n",
        "\n",
        "    # Store the recommendations for the service\n",
        "    recommendations[service] = recommended_parts.index.tolist()\n",
        "\n",
        "# Print the recommendations for the fifth part\n",
        "fifth_part_recommendations = set()\n",
        "for service, recommended_parts in recommendations.items():\n",
        "    if recommended_parts:\n",
        "        fifth_part_recommendations.add(recommended_parts[0])  # Consider only the top recommended part\n",
        "\n",
        "print(\"Recommendations for the fifth part:\")\n",
        "print(fifth_part_recommendations)\n"
      ],
      "metadata": {
        "colab": {
          "base_uri": "https://localhost:8080/"
        },
        "id": "bfZU4OE2a0es",
        "outputId": "124276ca-c388-4f1b-c106-2870c6d1d659"
      },
      "execution_count": null,
      "outputs": [
        {
          "output_type": "stream",
          "name": "stdout",
          "text": [
            "Recommendations for the fifth part:\n",
            "{'seals, gaskets, and o-rings'}\n"
          ]
        }
      ]
    },
    {
      "cell_type": "code",
      "source": [],
      "metadata": {
        "id": "IUZBujLacdTE"
      },
      "execution_count": null,
      "outputs": []
    }
  ]
}